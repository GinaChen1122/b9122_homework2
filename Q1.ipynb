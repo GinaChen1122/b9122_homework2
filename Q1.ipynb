{
 "cells": [
  {
   "cell_type": "code",
   "execution_count": 1,
   "metadata": {},
   "outputs": [],
   "source": [
    "import requests\n",
    "from bs4 import BeautifulSoup"
   ]
  },
  {
   "cell_type": "markdown",
   "metadata": {},
   "source": [
    "## Q1.1"
   ]
  },
  {
   "cell_type": "code",
   "execution_count": 2,
   "metadata": {},
   "outputs": [],
   "source": [
    "# Find the latest press releases pages\n",
    "url = \"https://press.un.org/en\"\n",
    "response = requests.get(url)\n",
    "\n",
    "results_page = BeautifulSoup(response.content, 'lxml')\n",
    "press_release = results_page.find_all('div', {'class': 'view-footer'})[1]\n",
    "\n",
    "press_release_first_page = press_release.find('a').get('href')\n",
    "press_release_response = requests.get(press_release_first_page)\n",
    "press_release_results_first_page = BeautifulSoup(press_release_response.content, 'lxml')"
   ]
  },
  {
   "cell_type": "code",
   "execution_count": 3,
   "metadata": {},
   "outputs": [],
   "source": [
    "press_release_with_crisis = []\n",
    "\n",
    "def extract_press_release_with_crisis(results_page):\n",
    "    seed_url = \"https://press.un.org\"\n",
    "    all_urls = results_page.find_all('h3')\n",
    "\n",
    "    for i in range(0, len(all_urls)):\n",
    "        press_release_url = seed_url + all_urls[i].find('a').get('href')\n",
    "\n",
    "        press_release = requests.get(press_release_url)\n",
    "        press_release_page = BeautifulSoup(press_release.content, 'lxml')\n",
    "\n",
    "        paragraphs = press_release_page.find_all('p')\n",
    "        for paragraph in paragraphs:\n",
    "            if 'crisis' in paragraph.text.lower() and press_release_url not in press_release_with_crisis:\n",
    "                press_release_with_crisis.append(press_release_url)\n",
    "            else:\n",
    "                next\n",
    "    return press_release_with_crisis\n",
    "    "
   ]
  },
  {
   "cell_type": "code",
   "execution_count": 4,
   "metadata": {},
   "outputs": [
    {
     "data": {
      "text/plain": [
       "['https://press.un.org/en/2023/sgsm21967.doc.htm']"
      ]
     },
     "execution_count": 4,
     "metadata": {},
     "output_type": "execute_result"
    }
   ],
   "source": [
    "current_extracted = extract_press_release_with_crisis(press_release_results_first_page)\n",
    "current_extracted"
   ]
  },
  {
   "cell_type": "code",
   "execution_count": 5,
   "metadata": {},
   "outputs": [],
   "source": [
    "if len(current_extracted) < 10:\n",
    "    press_release_response = requests.get(press_release_first_page)\n",
    "    press_release_results_page = BeautifulSoup(press_release_response.content, 'lxml')\n",
    "\n",
    "    pages = press_release_results_page.find_all('li', {'class': 'page-item pager__item'})\n",
    "    \n",
    "    for i in range(0, len(pages)):\n",
    "        next_page = press_release_first_page + pages[i].find('a').get('href')\n",
    "\n",
    "        new_page_response = requests.get(next_page)\n",
    "        press_release_results_new_page = BeautifulSoup(new_page_response.content, 'lxml')\n",
    "\n",
    "        current_extracted = extract_press_release_with_crisis(press_release_results_new_page)  \n",
    "\n",
    "        if len(current_extracted) > 10:\n",
    "            break      "
   ]
  },
  {
   "cell_type": "code",
   "execution_count": 6,
   "metadata": {},
   "outputs": [
    {
     "data": {
      "text/plain": [
       "['https://press.un.org/en/2023/sgsm21967.doc.htm',\n",
       " 'https://press.un.org/en/2023/sga2230.doc.htm',\n",
       " 'https://press.un.org/en/2023/dsgsm1877.doc.htm',\n",
       " 'https://press.un.org/en/2023/sgsm21959.doc.htm',\n",
       " 'https://press.un.org/en/2023/sgsm21956.doc.htm',\n",
       " 'https://press.un.org/en/2023/sgsm21952.doc.htm',\n",
       " 'https://press.un.org/en/2023/sgsm21951.doc.htm',\n",
       " 'https://press.un.org/en/2023/sgsm21950.doc.htm',\n",
       " 'https://press.un.org/en/2023/sgsm21947.doc.htm',\n",
       " 'https://press.un.org/en/2023/sgsm21945.doc.htm',\n",
       " 'https://press.un.org/en/2023/dsgsm1874.doc.htm',\n",
       " 'https://press.un.org/en/2023/dsgsm1873.doc.htm']"
      ]
     },
     "execution_count": 6,
     "metadata": {},
     "output_type": "execute_result"
    }
   ],
   "source": [
    "current_extracted"
   ]
  },
  {
   "cell_type": "markdown",
   "metadata": {},
   "source": [
    "## Save Press Releases to txt Files"
   ]
  },
  {
   "cell_type": "code",
   "execution_count": 12,
   "metadata": {},
   "outputs": [],
   "source": [
    "for i in range(0, len(current_extracted)):\n",
    "    URL = current_extracted[i]\n",
    "\n",
    "    response = requests.get(URL)\n",
    "    soup = BeautifulSoup(response.content, 'lxml')\n",
    "\n",
    "    title = soup.find('h1').get_text()\n",
    "\n",
    "    paragraphs = [title]\n",
    "\n",
    "    text = soup.find_all('p')\n",
    "\n",
    "    for j in range(0, len(text) - 2):\n",
    "        paragraphs.append(text[j].get_text())\n",
    "\n",
    "        article = '\\n'.join(paragraphs)\n",
    "\n",
    "        file_name = f'1_{i + 1}.txt'\n",
    "        with open(file_name, 'w', encoding = 'utf-8') as file:\n",
    "            file.write(article)"
   ]
  },
  {
   "cell_type": "code",
   "execution_count": null,
   "metadata": {},
   "outputs": [],
   "source": []
  },
  {
   "cell_type": "code",
   "execution_count": null,
   "metadata": {},
   "outputs": [],
   "source": []
  }
 ],
 "metadata": {
  "kernelspec": {
   "display_name": "Python 3.7.7 64-bit",
   "language": "python",
   "name": "python3"
  },
  "language_info": {
   "codemirror_mode": {
    "name": "ipython",
    "version": 3
   },
   "file_extension": ".py",
   "mimetype": "text/x-python",
   "name": "python",
   "nbconvert_exporter": "python",
   "pygments_lexer": "ipython3",
   "version": "3.7.7"
  },
  "orig_nbformat": 4,
  "vscode": {
   "interpreter": {
    "hash": "aee8b7b246df8f9039afb4144a1f6fd8d2ca17a180786b69acc140d282b71a49"
   }
  }
 },
 "nbformat": 4,
 "nbformat_minor": 2
}
