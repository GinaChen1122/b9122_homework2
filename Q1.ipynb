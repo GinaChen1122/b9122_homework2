{
 "cells": [
  {
   "cell_type": "markdown",
   "metadata": {},
   "source": [
    "## Q1.1"
   ]
  },
  {
   "cell_type": "code",
   "execution_count": 1,
   "metadata": {},
   "outputs": [],
   "source": [
    "import requests\n",
    "from bs4 import BeautifulSoup\n",
    "\n",
    "# Find the latest press releases pages\n",
    "url = \"https://press.un.org/en\"\n",
    "response = requests.get(url)\n",
    "\n",
    "results_page = BeautifulSoup(response.content, 'lxml')\n",
    "press_release = results_page.find_all('div', {'class': 'view-footer'})[1]\n",
    "\n",
    "press_release_first_page = press_release.find('a').get('href')\n",
    "press_release_response = requests.get(press_release_first_page)\n",
    "press_release_results_first_page = BeautifulSoup(press_release_response.content, 'lxml')"
   ]
  },
  {
   "cell_type": "code",
   "execution_count": 2,
   "metadata": {},
   "outputs": [],
   "source": [
    "current_extracted = []\n",
    "\n",
    "def extract_press_release_with_crisis(results_page):\n",
    "    seed_url = \"https://press.un.org\"\n",
    "    all_urls = results_page.find_all('h3')\n",
    "\n",
    "    for i in range(0, len(all_urls)):\n",
    "        press_release_url = seed_url + all_urls[i].find('a').get('href')\n",
    "\n",
    "        press_release = requests.get(press_release_url)\n",
    "        press_release_page = BeautifulSoup(press_release.content, 'lxml')\n",
    "\n",
    "        text = press_release_page.find('a', {'hreflang': 'en'}).get_text()\n",
    "        if text == 'Press Release':\n",
    "            paragraphs = press_release_page.find_all('p')\n",
    "            for paragraph in paragraphs:\n",
    "                if 'crisis' in paragraph.text.lower() and press_release_url not in current_extracted:\n",
    "                    current_extracted.append(press_release_url)\n",
    "                else:\n",
    "                    next\n",
    "        else:\n",
    "            next\n",
    "    \n",
    "    return current_extracted"
   ]
  },
  {
   "cell_type": "code",
   "execution_count": 3,
   "metadata": {},
   "outputs": [],
   "source": [
    "press_release_with_crisis = extract_press_release_with_crisis(press_release_results_first_page)\n",
    "\n",
    "if len(press_release_with_crisis) < 10:\n",
    "    press_release_response = requests.get(press_release_first_page)\n",
    "    press_release_results_page = BeautifulSoup(press_release_response.content, 'lxml')\n",
    "\n",
    "    pages = press_release_results_page.find_all('li', {'class': 'page-item pager__item'})\n",
    "    \n",
    "    for i in range(0, len(pages)):\n",
    "        next_page = press_release_first_page + pages[i].find('a').get('href')\n",
    "\n",
    "        new_page_response = requests.get(next_page)\n",
    "        press_release_results_new_page = BeautifulSoup(new_page_response.content, 'lxml')\n",
    "\n",
    "        press_release_with_crisis = extract_press_release_with_crisis(press_release_results_new_page)  \n",
    "\n",
    "        if len(press_release_with_crisis) > 10:\n",
    "            break "
   ]
  },
  {
   "cell_type": "code",
   "execution_count": 4,
   "metadata": {},
   "outputs": [
    {
     "data": {
      "text/plain": [
       "['https://press.un.org/en/2023/sgsm21980.doc.htm',\n",
       " 'https://press.un.org/en/2023/sgsm21978.doc.htm',\n",
       " 'https://press.un.org/en/2023/sgsm21967.doc.htm',\n",
       " 'https://press.un.org/en/2023/dsgsm1877.doc.htm',\n",
       " 'https://press.un.org/en/2023/sgsm21959.doc.htm',\n",
       " 'https://press.un.org/en/2023/sgsm21956.doc.htm',\n",
       " 'https://press.un.org/en/2023/sgsm21952.doc.htm',\n",
       " 'https://press.un.org/en/2023/sgsm21951.doc.htm',\n",
       " 'https://press.un.org/en/2023/sgsm21950.doc.htm',\n",
       " 'https://press.un.org/en/2023/sgsm21947.doc.htm',\n",
       " 'https://press.un.org/en/2023/sgsm21945.doc.htm']"
      ]
     },
     "execution_count": 4,
     "metadata": {},
     "output_type": "execute_result"
    }
   ],
   "source": [
    "press_release_with_crisis"
   ]
  },
  {
   "cell_type": "code",
   "execution_count": 5,
   "metadata": {},
   "outputs": [
    {
     "data": {
      "text/plain": [
       "11"
      ]
     },
     "execution_count": 5,
     "metadata": {},
     "output_type": "execute_result"
    }
   ],
   "source": [
    "len(press_release_with_crisis)"
   ]
  },
  {
   "cell_type": "markdown",
   "metadata": {},
   "source": [
    "## Save press releasse to txt files"
   ]
  },
  {
   "cell_type": "code",
   "execution_count": 6,
   "metadata": {},
   "outputs": [],
   "source": [
    "for i in range(0, len(press_release_with_crisis)):\n",
    "    URL = press_release_with_crisis[i]\n",
    "\n",
    "    response = requests.get(URL)\n",
    "    soup = BeautifulSoup(response.content, 'lxml')\n",
    "\n",
    "    title = soup.find('h1').get_text()\n",
    "\n",
    "    paragraphs = [title]\n",
    "\n",
    "    text = soup.find_all('p')\n",
    "\n",
    "    for j in range(0, len(text) - 2):\n",
    "        paragraphs.append(text[j].get_text())\n",
    "\n",
    "        article = '\\n'.join(paragraphs)\n",
    "\n",
    "        file_name = f'1_{i + 1}.txt'\n",
    "        with open(file_name, 'w', encoding = 'utf-8') as file:\n",
    "            file.write(article)"
   ]
  },
  {
   "cell_type": "markdown",
   "metadata": {},
   "source": [
    "## Q1.2 -- Without \"load more\" button"
   ]
  },
  {
   "cell_type": "code",
   "execution_count": 8,
   "metadata": {},
   "outputs": [],
   "source": [
    "import requests\n",
    "from bs4 import BeautifulSoup\n",
    "\n",
    "page_num = 0\n",
    "plentary_session_with_crisis = []\n",
    "\n",
    "while len(plentary_session_with_crisis) < 10:\n",
    "    url = f\"https://www.europarl.europa.eu/news/en/press-room/page/{page_num}\"\n",
    "    response = requests.get(url)\n",
    "    soup = BeautifulSoup(response.content, 'lxml')\n",
    "    results_pages = soup.find_all('h3', {'class': 'ep-a_heading ep-layout_level2'})\n",
    "\n",
    "    for results_page in results_pages:\n",
    "        new_url = results_page.find('a').get('href')\n",
    "        new_response = requests.get(new_url)\n",
    "        new_results_page = BeautifulSoup(new_response.content, 'lxml')\n",
    "\n",
    "        session = new_results_page.find('div', {'class': 'ep-p_text ep-layout_contenttype ep-layout_plenary'})\n",
    "        if session:\n",
    "            text = session.find('span', {'class': 'ep_name'}).get_text()\n",
    "            if text == 'Plenary session':\n",
    "                paragraphs = new_results_page.find_all('p')\n",
    "                for paragraph in paragraphs:\n",
    "                    if 'crisis' in paragraph.text.lower() and new_url not in plentary_session_with_crisis:\n",
    "                        plentary_session_with_crisis.append(new_url)\n",
    "                    else:\n",
    "                        None\n",
    "        else:\n",
    "            continue\n",
    "    page_num += 1"
   ]
  },
  {
   "cell_type": "code",
   "execution_count": 9,
   "metadata": {},
   "outputs": [
    {
     "data": {
      "text/plain": [
       "['https://www.europarl.europa.eu/news/en/press-room/20230929IPR06132/nagorno-karabakh-meps-demand-review-of-eu-relations-with-azerbaijan',\n",
       " 'https://www.europarl.europa.eu/news/en/press-room/20230929IPR06130/parliament-argues-for-a-top-up-to-multi-annual-budget-for-crisis-response',\n",
       " 'https://www.europarl.europa.eu/news/en/press-room/20230911IPR04923/reduce-demand-and-protect-people-in-prostitution-say-meps',\n",
       " 'https://www.europarl.europa.eu/news/en/press-room/20230911IPR04918/svietlana-tsikhanouskaya-to-meps-support-belarusians-european-aspirations',\n",
       " 'https://www.europarl.europa.eu/news/en/press-room/20230911IPR04908/meps-vote-to-strengthen-eu-defence-industry-through-common-procurement',\n",
       " 'https://www.europarl.europa.eu/news/en/press-room/20230707IPR02427/covid-19-parliament-adopts-roadmap-to-better-prepare-for-future-health-crises',\n",
       " 'https://www.europarl.europa.eu/news/en/press-room/20230707IPR02421/parliament-adopts-new-rules-to-boost-energy-savings',\n",
       " 'https://www.europarl.europa.eu/news/en/press-room/20230707IPR02418/semiconductors-meps-adopt-legislation-to-boost-eu-chips-industry',\n",
       " 'https://www.europarl.europa.eu/news/en/press-room/20230706IPR02317/ep-today',\n",
       " 'https://www.europarl.europa.eu/news/en/press-room/20230706IPR02316/ep-today']"
      ]
     },
     "execution_count": 9,
     "metadata": {},
     "output_type": "execute_result"
    }
   ],
   "source": [
    "plentary_session_with_crisis"
   ]
  },
  {
   "cell_type": "code",
   "execution_count": 10,
   "metadata": {},
   "outputs": [
    {
     "data": {
      "text/plain": [
       "10"
      ]
     },
     "execution_count": 10,
     "metadata": {},
     "output_type": "execute_result"
    }
   ],
   "source": [
    "len(plentary_session_with_crisis)"
   ]
  },
  {
   "cell_type": "markdown",
   "metadata": {},
   "source": [
    "## Save press releasse to txt files"
   ]
  },
  {
   "cell_type": "code",
   "execution_count": 11,
   "metadata": {},
   "outputs": [],
   "source": [
    "for i in range(0, len(plentary_session_with_crisis)):\n",
    "    URL = plentary_session_with_crisis[i]\n",
    "\n",
    "    response = requests.get(URL)\n",
    "    soup = BeautifulSoup(response.content, 'lxml')\n",
    "\n",
    "    title = soup.find('div', {'class': 'ep-a_heading ep-layout_level1'}).find('span', {'class': 'ep_name'}).get_text()\n",
    "\n",
    "    paragraphs = [title]\n",
    "\n",
    "    text = soup.find_all('p')\n",
    "\n",
    "    for j in range(0, len(text)):\n",
    "        paragraphs.append(text[j].get_text())\n",
    "\n",
    "        article = '\\n'.join(paragraphs)\n",
    "\n",
    "        file_name = f'2_{i + 1}.txt'\n",
    "        with open(file_name, 'w', encoding = 'utf-8') as file:\n",
    "            file.write(article)"
   ]
  },
  {
   "cell_type": "code",
   "execution_count": null,
   "metadata": {},
   "outputs": [],
   "source": []
  },
  {
   "cell_type": "markdown",
   "metadata": {},
   "source": [
    "## Q1.2 -- With \"load more\" button"
   ]
  },
  {
   "cell_type": "code",
   "execution_count": null,
   "metadata": {},
   "outputs": [],
   "source": [
    "from selenium import webdriver\n",
    "from selenium.webdriver.common.by import By\n",
    "from selenium.webdriver.common.action_chains import ActionChains\n",
    "import time\n",
    "\n",
    "url = \"https://www.europarl.europa.eu/news/en/press-room\"\n",
    "\n",
    "driver = webdriver.Chrome()\n",
    "driver.get(url)\n",
    "\n",
    "plentary_session_with_crisis = []\n",
    "seen = []\n",
    "\n",
    "click = 0\n",
    "while len(plentary_session_with_crisis) < 10:\n",
    "    click += 1\n",
    "\n",
    "    element = driver.find_element(By.ID,'continuesLoading_button')\n",
    "    webdriver.ActionChains(driver).click(element).perform()\n",
    "    time.sleep(3)\n",
    "    page_source = driver.page_source\n",
    "\n",
    "    soup = BeautifulSoup(page_source, 'lxml')\n",
    "    results_pages = soup.find_all('h3', {'class': 'ep-a_heading ep-layout_level2'})\n",
    "\n",
    "    for results_page in results_pages:\n",
    "        new_url = results_page.find('a').get('href')\n",
    "        if new_url not in seen:\n",
    "            seen.append(new_url)\n",
    "            new_response = requests.get(new_url)\n",
    "            new_results_page = BeautifulSoup(new_response.content, 'lxml')\n",
    "\n",
    "            session = new_results_page.find('div', {'class': 'ep-p_text ep-layout_contenttype ep-layout_plenary'})\n",
    "            if session:\n",
    "                text = session.find('span', {'class': 'ep_name'}).get_text()\n",
    "                if text == 'Plenary session':\n",
    "                    paragraphs = new_results_page.find_all('p')\n",
    "                    for paragraph in paragraphs:\n",
    "                        if 'crisis' in paragraph.text.lower() and new_url not in plentary_session_with_crisis:\n",
    "                            plentary_session_with_crisis.append(new_url)\n",
    "                            # print(plentary_session_with_crisis)\n",
    "                        else:\n",
    "                            None\n",
    "            else:\n",
    "                continue"
   ]
  },
  {
   "cell_type": "code",
   "execution_count": null,
   "metadata": {},
   "outputs": [],
   "source": []
  }
 ],
 "metadata": {
  "kernelspec": {
   "display_name": "Python 3.7.7 64-bit",
   "language": "python",
   "name": "python3"
  },
  "language_info": {
   "codemirror_mode": {
    "name": "ipython",
    "version": 3
   },
   "file_extension": ".py",
   "mimetype": "text/x-python",
   "name": "python",
   "nbconvert_exporter": "python",
   "pygments_lexer": "ipython3",
   "version": "3.7.7"
  },
  "orig_nbformat": 4,
  "vscode": {
   "interpreter": {
    "hash": "aee8b7b246df8f9039afb4144a1f6fd8d2ca17a180786b69acc140d282b71a49"
   }
  }
 },
 "nbformat": 4,
 "nbformat_minor": 2
}
